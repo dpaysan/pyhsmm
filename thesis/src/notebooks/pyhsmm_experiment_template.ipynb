{
 "cells": [
  {
   "cell_type": "markdown",
   "metadata": {},
   "source": [
    "# PyHSMM Experiment - Template\n",
    "\n",
    "This notebook provides all functionalities to run experiments with the updated version of the pyhsmm package (originally from `matjj`). \n",
    "\n",
    "---"
   ]
  },
  {
   "cell_type": "markdown",
   "metadata": {},
   "source": [
    "## 0. Setup of the Environment"
   ]
  },
  {
   "cell_type": "code",
   "execution_count": 1,
   "metadata": {},
   "outputs": [],
   "source": [
    "\n",
    "import numpy as np\n",
    "import pandas as pd\n",
    "import matplotlib.pyplot as plt\n",
    "from pyhsmm.basic.distributions import PoissonDuration, NegativeBinomialDuration, NegativeBinomialFixedRDuration\n",
    "from pyhsmm.models import WeakLimitHDPHSMM, HSMM\n",
    "from pybasicbayes.distributions.gaussian import Gaussian\n",
    "from pybasicbayes.distributions.multinomial import Categorical\n",
    "from pybasicbayes.distributions.mixturedistribution import DistributionMixture\n",
    "import pickle\n",
    "from pyhsmm.util.eaf_processing import to_eaf\n",
    "import random\n",
    "import sys\n",
    "import ipywidgets as widgets\n",
    "import datetime\n",
    "\n",
    "sys.path.insert(1,'/home/daniel/PycharmProjects/virtamed')\n",
    "\n",
    "from helpers import get_list_of_files, load_zipped_pickle\n",
    "\n",
    "np.random.seed(1001)\n",
    "random.seed(1001)"
   ]
  },
  {
   "cell_type": "markdown",
   "metadata": {},
   "source": [
    "---\n",
    "\n",
    "## 1. Read in data\n",
    "\n",
    "The data is assumed to be prepared and stored in zipped pickle files. Refer to the `virtamed` project for more information."
   ]
  },
  {
   "cell_type": "code",
   "execution_count": 2,
   "metadata": {},
   "outputs": [],
   "source": [
    "def read_data_from_disk(root_dir, limit=None):\n",
    "    file_list = get_list_of_files(root_dir)\n",
    "    obs_array = []\n",
    "    records = []\n",
    "    data_frames = []\n",
    "    eaf_fnames = []\n",
    "    for fname in file_list:\n",
    "        print('Got data for ' + fname)\n",
    "        data_dict = load_zipped_pickle(fname)\n",
    "        obs_array.append(data_dict['obs'])\n",
    "        records.append(data_dict['record'])\n",
    "        data_frames.append(data_dict['decode_df'])\n",
    "        eaf_fnames.append(data_dict['eaf_path'])\n",
    "    \n",
    "    return obs_array, records, data_frames, eaf_fnames"
   ]
  },
  {
   "cell_type": "markdown",
   "metadata": {},
   "source": [
    "We will use the data that has been obtained preprocessed."
   ]
  },
  {
   "cell_type": "code",
   "execution_count": 3,
   "metadata": {},
   "outputs": [
    {
     "name": "stdout",
     "output_type": "stream",
     "text": [
      "Got data for /home/daniel/PycharmProjects/virtamed/Data/hsmm-experiments/turbidity_mix_pyhsmm_data/pyhsmm_data/2018_01_18_12_47_42_257.zip\n",
      "Got data for /home/daniel/PycharmProjects/virtamed/Data/hsmm-experiments/turbidity_mix_pyhsmm_data/pyhsmm_data/2018_01_18_12_51_23_562.zip\n",
      "Got data for /home/daniel/PycharmProjects/virtamed/Data/hsmm-experiments/turbidity_mix_pyhsmm_data/pyhsmm_data/2018_01_18_12_57_05_692.zip\n",
      "Got data for /home/daniel/PycharmProjects/virtamed/Data/hsmm-experiments/turbidity_mix_pyhsmm_data/pyhsmm_data/2018_01_18_13_01_17_229.zip\n",
      "Got data for /home/daniel/PycharmProjects/virtamed/Data/hsmm-experiments/turbidity_mix_pyhsmm_data/pyhsmm_data/2018_01_18_13_10_39_252.zip\n",
      "Got data for /home/daniel/PycharmProjects/virtamed/Data/hsmm-experiments/turbidity_mix_pyhsmm_data/pyhsmm_data/2018_01_18_13_14_48_287.zip\n",
      "Got data for /home/daniel/PycharmProjects/virtamed/Data/hsmm-experiments/turbidity_mix_pyhsmm_data/pyhsmm_data/2018_01_18_13_18_40_675.zip\n",
      "Got data for /home/daniel/PycharmProjects/virtamed/Data/hsmm-experiments/turbidity_mix_pyhsmm_data/pyhsmm_data/2018_01_18_13_29_55_673.zip\n",
      "Got data for /home/daniel/PycharmProjects/virtamed/Data/hsmm-experiments/turbidity_mix_pyhsmm_data/pyhsmm_data/2018_01_18_13_39_38_430.zip\n",
      "Got data for /home/daniel/PycharmProjects/virtamed/Data/hsmm-experiments/turbidity_mix_pyhsmm_data/pyhsmm_data/2018_01_18_13_45_22_022.zip\n",
      "Got data for /home/daniel/PycharmProjects/virtamed/Data/hsmm-experiments/turbidity_mix_pyhsmm_data/pyhsmm_data/2018_01_18_13_49_11_536.zip\n",
      "Got data for /home/daniel/PycharmProjects/virtamed/Data/hsmm-experiments/turbidity_mix_pyhsmm_data/pyhsmm_data/2018_01_18_13_57_44_300.zip\n",
      "Got data for /home/daniel/PycharmProjects/virtamed/Data/hsmm-experiments/turbidity_mix_pyhsmm_data/pyhsmm_data/2018_01_18_14_01_27_030.zip\n",
      "Got data for /home/daniel/PycharmProjects/virtamed/Data/hsmm-experiments/turbidity_mix_pyhsmm_data/pyhsmm_data/2018_01_18_14_05_42_251.zip\n",
      "Got data for /home/daniel/PycharmProjects/virtamed/Data/hsmm-experiments/turbidity_mix_pyhsmm_data/pyhsmm_data/2018_01_18_14_44_04_548.zip\n",
      "Got data for /home/daniel/PycharmProjects/virtamed/Data/hsmm-experiments/turbidity_mix_pyhsmm_data/pyhsmm_data/2018_01_18_15_31_37_428.zip\n",
      "Got data for /home/daniel/PycharmProjects/virtamed/Data/hsmm-experiments/turbidity_mix_pyhsmm_data/pyhsmm_data/2018_01_18_15_44_18_638.zip\n",
      "Got data for /home/daniel/PycharmProjects/virtamed/Data/hsmm-experiments/turbidity_mix_pyhsmm_data/pyhsmm_data/2018_01_18_16_10_32_941.zip\n",
      "Got data for /home/daniel/PycharmProjects/virtamed/Data/hsmm-experiments/turbidity_mix_pyhsmm_data/pyhsmm_data/2018_01_18_16_17_21_077.zip\n"
     ]
    }
   ],
   "source": [
    "root_dir = '/home/daniel/PycharmProjects/virtamed/Data/hsmm-experiments/turbidity_mix_pyhsmm_data/pyhsmm_data/'\n",
    "\n",
    "obs_array, records, data_frames, eaf_fnames = read_data_from_disk(root_dir)"
   ]
  },
  {
   "cell_type": "markdown",
   "metadata": {},
   "source": [
    "---\n",
    "\n",
    "## 2. Experiments\n",
    "\n",
    "###  2a. Configuration of the HSMM\n",
    "\n",
    "After reading in the data, we will now configure the HSMM model. This involvs setting the initial values for the individual parts of the HSMM model namely the transition, emission, duration and intial state distribution model."
   ]
  },
  {
   "cell_type": "markdown",
   "metadata": {},
   "source": [
    "#### 2a. i) Basic setup\n",
    "\n",
    "First we define the number of emission symbols that are present in the data and the state space of our model."
   ]
  },
  {
   "cell_type": "code",
   "execution_count": 5,
   "metadata": {},
   "outputs": [],
   "source": [
    "obs_dim = 5\n",
    "state_list = ['DX', 'place_tool', 'cutting_loop', 'coag_loop', 'clear_view', 'handle_chips']"
   ]
  },
  {
   "cell_type": "markdown",
   "metadata": {},
   "source": [
    "#### 2a. ii) Configuration of the transition model\n",
    "\n",
    "The transition model is given by categorical distribution namely the Dirichlet distribution. We will define a multinomial likelihood model and a Dirichlet prior distribution by providing the respective parameters.\n",
    "\n"
   ]
  },
  {
   "cell_type": "code",
   "execution_count": 6,
   "metadata": {},
   "outputs": [],
   "source": [
    "initial_state_transition_likelihood = [\n",
    "  [0.000, 0.760, 0.010, 0.010, 0.210, 0.010],       #DX\n",
    "  [0.010, 0.000, 0.430, 0.430, 0.120, 0.010],       #place tool\n",
    "  [0.010, 0.450, 0.000, 0.250, 0.250, 0.040],       #cutting loop\n",
    "  [0.010, 0.530, 0.210, 0.000, 0.200, 0.050],       #coag loop\n",
    "  [0.010, 0.450, 0.200, 0.250, 0.000, 0.050],       #clear view\n",
    "  [0.010, 0.060, 0.015, 0.015, 0.900, 0.000]        #handle chips\n",
    "]\n",
    "\n",
    "initial_state_transition_likelihood = np.array(initial_state_transition_likelihood)\n",
    "\n",
    "# Dirichlet prior can be seen as pseudo counts that are seen for every state transition.\n",
    "# The larger we set the dirichlet prior parameter alpha the less our likelihood will influence the posterior\n",
    "# and the more the individual distributions of transitioning from one fixed state into any other will tend to\n",
    "# a uniform distribution\n",
    "\n",
    "# Note that theoretically for a valid HSMM the probability of remaining in the same state should be 0 at all times.\n",
    "# We need to check if the given implementation takes that into account.\n",
    "\n",
    "dirichlet_state_transition_prior_alpha = 0\n",
    "dirichlet_state_transition_prior_alpha = np.array(dirichlet_state_transition_prior_alpha)"
   ]
  },
  {
   "cell_type": "markdown",
   "metadata": {},
   "source": [
    "#### 2a. iii) Initial State distribution model\n",
    "\n",
    "We will now define the prior guess for the initial state distribution, that will be given by a multinomial distribution."
   ]
  },
  {
   "cell_type": "code",
   "execution_count": 7,
   "metadata": {},
   "outputs": [],
   "source": [
    "\n",
    "init_state_pi_0 = [0.990, 0.002, 0.002, 0.002, 0.002, 0.002]\n",
    "init_state_pi_0 = np.array(init_state_pi_0)\n",
    "\n",
    "init_state_dirichlet_prior = 1"
   ]
  },
  {
   "cell_type": "markdown",
   "metadata": {},
   "source": [
    "#### 2a. iv) Duration distribution model initialization\n",
    "\n",
    "We will now initialize the parameter of the state-specific duration distribution model. Note that the implementation so far only support Poisson distributions and negative binomial distributions.\n",
    "\n",
    "We will now provide the hyper-parameters of a Poisson distribution as well as the respective Gamma priors for the individual states.\n",
    "\n",
    "The values are chosen in such a way that the MAP of the first and second moment are close to what we assume a good initial guess of the individual durations of the specific states. Our assumption is based on what we have observed in the annotated sequence 692."
   ]
  },
  {
   "cell_type": "code",
   "execution_count": 8,
   "metadata": {},
   "outputs": [],
   "source": [
    "#duration_gamma_prior_alpha_0s = [250.0*2, 20.0*2, 20.0*2, 20.0*2, 20.0*2, 150.0*2]\n",
    "duration_gamma_prior_alpha_0s = [0,0,0,0,0,0]\n",
    "duration_gamma_prior_alpha_0s = np.array(duration_gamma_prior_alpha_0s)\n",
    "duration_gamma_prior_beta_0s = [2, 2, 2, 2, 2, 2]\n",
    "duration_gamma_prior_beta_0s = np.array(duration_gamma_prior_beta_0s)\n",
    "\n",
    "duration_poission_lmbda = [275, 30, 30, 30, 30, 150]\n",
    "duration_poission_lmbda = np.array(duration_poission_lmbda).astype(np.int64)"
   ]
  },
  {
   "cell_type": "markdown",
   "metadata": {},
   "source": [
    "Alternatively, we can use a Negative Binomial distribution to model the durations."
   ]
  },
  {
   "cell_type": "code",
   "execution_count": 9,
   "metadata": {},
   "outputs": [],
   "source": [
    "duration_negbin_r_gamma_prior_k = np.array([1,1,1,1,1,1,1])\n",
    "duration_negbin_r_gamma_prior_theta = np.array([1,1,1,1,1,1])\n",
    "\n",
    "duration_negbin_p_beta_prior_alpha=np.array([1,1,1,1,1,1])\n",
    "duration_negbin_p_beta_prior_beta=np.array([1,1,1,1,1,1])\n",
    "\n",
    "duration_negbin_rs = np.array([248.813,  32.494,  33.214,  31.712,  31.963, 149.621])\n",
    "duration_negbin_ps = np.array([0.11982199, 0.07122912, 0.07256167, 0.07113063, 0.07079434, 0.09604035])\n",
    "\n",
    "# # Beta prior for p\n",
    "# alpha_0s = [0.9982, 0.9992, 0.99982, 0.99982, 0.997, 0.9988]\n",
    "# beta_0s = []\n",
    "# for alpha_0 in alpha_0s:\n",
    "#     beta_0s.append(1 - alpha_0)\n",
    "#\n",
    "# p_s = np.array([0.9982, 0.9992, 0.99982, 0.99982, 0.97, 0.9988])\n",
    "# r_s = np.array([0.811, 0.160, 0.0056, 0.0056, 0.09, 0.3604])\n",
    "#\n",
    "# # Gamma prior for r\n",
    "# theta_0s = np.array([0.811, 0.160, 0.09, 0.0056, 0.09, 0.3604])\n",
    "# k_0s = np.array([1, 1, 1, 1, 1, 1])\n"
   ]
  },
  {
   "cell_type": "markdown",
   "metadata": {},
   "source": [
    "#### 2a. v) Continuous emission model\n",
    "\n",
    "After having defined the parameter for all models except for the emission model, we will now first define those of the emission model for the continuous emission symbols. The intiailization is copied form the one used in the experiments conducted in the `virtamed` package. Additional we define the an Inverse-Wishart prior for the distribution. The choice of the hyperparemeters of the latter are chosen rather arbitrary at the time being."
   ]
  },
  {
   "cell_type": "code",
   "execution_count": 10,
   "metadata": {},
   "outputs": [],
   "source": [
    "# emission means\n",
    "cont_emission_mu_0s = [[0.88642484,-0.00891672,-0.04283354,-0.0317823],[0.61224319,0.02817965,-0.02589644,-0.04455821],[0.58584866,-0.00769866,0.02885823,0.04061716],[0.43383527,0.18540008,0.04765909,-0.07190584],[0.30027241,-0.03101967,-0.02387799,0.02523613],[0.12876249,-0.05194618,0.1515244,0.0675104]]\n",
    "cont_emission_mu_0s = np.array(cont_emission_mu_0s)\n",
    "\n",
    "# emission covariances\n",
    "cont_emission_sigma_0s = [[[5.43564900e-02,-1.02311669e-03,-1.20809601e-02,-1.02502021e-03],[-1.02311669e-03,5.83729890e-01,2.19925787e-02,-1.75695080e-03],[-1.20809601e-02,2.19925787e-02,1.71378102e-01,5.04926024e-02],[-1.02502021e-03,-1.75695080e-03,5.04926024e-02,3.42755585e-01]],[[6.83205801e-02,-5.67017463e-03,-4.17238835e-03,-9.87379049e-03],[-5.67017463e-03,1.58531968e-01,1.63952434e-02,1.22384808e-02],[-4.17238835e-03,1.63952434e-02,9.99248104e-02,1.37774898e-02],[-9.87379049e-03,1.22384808e-02,1.37774898e-02,1.54694142e-01]],[[5.86630217e-02,5.64290457e-04,-6.46090277e-04,-1.49891494e-03],[5.64290457e-04,6.01453893e-02,-2.73922290e-04,-1.74955950e-03],[-6.46090277e-04,-2.73922290e-04,5.11560030e-02,-7.84147526e-04],[-1.49891494e-03,-1.74955950e-03,-7.84147526e-04,6.93725893e-02]],[[5.91858857e-02,-8.20626778e-03,-6.06608823e-04,3.79264532e-03],[-8.20626778e-03,1.66771745e-01,6.32176840e-03,-3.02101347e-02],[-6.06608823e-04,6.32176840e-03,5.09901883e-02,-1.26116808e-03],[3.79264532e-03,-3.02101347e-02,-1.26116808e-03,6.39967215e-02]],[[8.61065728e-02,6.40796793e-04,-4.24814451e-03,1.11548464e-02],[6.40796793e-04,3.05070604e-01,-3.19118389e-02,-1.17706617e-02],[-4.24814451e-03,-3.19118389e-02,1.36628271e-01,-1.18966409e-02],[1.11548464e-02,-1.17706617e-02,-1.18966409e-02,1.41145164e-01]],[[5.49763168e-02,-1.94783365e-03,-1.58677936e-02,-4.54278313e-03],[-1.94783365e-03,2.41286909e-01,-2.03069104e-01,1.31028390e-01],[-1.58677936e-02,-2.03069104e-01,9.87373541e-01,5.09928218e-02],[-4.54278313e-03,1.31028390e-01,5.09928218e-02,5.91564690e-01]]]\n",
    "cont_emission_sigma_0s = np.array(cont_emission_sigma_0s)\n",
    "\n",
    "cont_emission_iw_prior_kappa_0 = 100\n",
    "cont_emission_iw_prior_nu_0 = obs_dim+3"
   ]
  },
  {
   "cell_type": "markdown",
   "metadata": {},
   "source": [
    "#### 2a. vi) Categorical emission model\n",
    "\n",
    "Last but not least we define the categorical emission model that is defined by a multinomial likelihood and a Dirichlet prior. We will define the respective hyperparameters in the following."
   ]
  },
  {
   "cell_type": "code",
   "execution_count": 11,
   "metadata": {},
   "outputs": [],
   "source": [
    "cat_emission_dirichlet_prior_alpha_0=0\n",
    "\n",
    "cat_emission_weights = [[0.01412429,0.01412429,0.01412429,0.01412429,0.01412429,0.01412429,0.01412429,0.01412429,0.01412429,0.01412429,0.01412429,0.01412429,0.01412429,0.01412429,0.01412429,0.33615819,0.01412429,0.01412429,0.01412429,0.01412429,0.01412429,0.01412429,0.01412429,0.01412429,0.01412429,0.01412429,0.01412429,0.01412429,0.01412429,0.01412429,0.01412429,0.01412429,0.01412429,0.01412429,0.01412429,0.01412429,0.01412429,0.01412429,0.01412429,0.01412429,0.01412429,0.01412429,0.01412429,0.01412429,0.01412429,0.01412429,0.01412429,0.01412429],[0.01557632,0.01557632,0.01557632,0.01557632,0.01557632,0.03115265,0.01557632,0.01557632,0.01557632,0.01557632,0.01557632,0.01557632,0.07943925,0.07632399,0.01557632,0.07943925,0.01557632,0.01557632,0.01557632,0.01557632,0.01557632,0.01557632,0.01557632,0.01557632,0.01557632,0.01557632,0.01557632,0.01557632,0.05451713,0.02492212,0.01557632,0.01557632,0.01557632,0.01557632,0.01557632,0.01557632,0.01557632,0.01557632,0.01557632,0.01557632,0.01557632,0.01557632,0.01557632,0.01557632,0.01557632,0.01557632,0.01557632,0.01557632],[0.01798561,0.01798561,0.01798561,0.01798561,0.03057554,0.13129496,0.01798561,0.01798561,0.01798561,0.01798561,0.01798561,0.01798561,0.02158273,0.02517986,0.01798561,0.01798561,0.01798561,0.01798561,0.01798561,0.01798561,0.01798561,0.01798561,0.01798561,0.01798561,0.01798561,0.01798561,0.01798561,0.01798561,0.01798561,0.01798561,0.01798561,0.01798561,0.01798561,0.01798561,0.01798561,0.01798561,0.01798561,0.01798561,0.01798561,0.01798561,0.01798561,0.01798561,0.01798561,0.01798561,0.01798561,0.01798561,0.01798561,0.01798561],[0.01805054,0.01805054,0.01805054,0.01805054,0.01805054,0.01805054,0.01805054,0.01805054,0.01805054,0.01805054,0.01805054,0.01805054,0.01805054,0.0234657,0.01805054,0.01805054,0.01805054,0.01805054,0.01805054,0.01805054,0.01805054,0.01805054,0.01805054,0.01805054,0.0433213,0.06859206,0.01805054,0.01805054,0.02166065,0.05956679,0.01805054,0.01805054,0.01805054,0.01805054,0.01805054,0.01805054,0.01805054,0.01805054,0.01805054,0.01805054,0.01805054,0.01805054,0.01805054,0.01805054,0.02527076,0.01805054,0.01805054,0.01805054],[0.01177856,0.01177856,0.01177856,0.01177856,0.01177856,0.01766784,0.01177856,0.01177856,0.01177856,0.01177856,0.01177856,0.01177856,0.04240283,0.04004711,0.01177856,0.01177856,0.01177856,0.01177856,0.01177856,0.01177856,0.01177856,0.01177856,0.01177856,0.01177856,0.01177856,0.01177856,0.01177856,0.01177856,0.16489988,0.0188457,0.01177856,0.01177856,0.01177856,0.01177856,0.01177856,0.01177856,0.01177856,0.01177856,0.01177856,0.01177856,0.01177856,0.01177856,0.01177856,0.01177856,0.17903416,0.05418139,0.01177856,0.01177856],[0.01757469,0.01757469,0.01757469,0.01757469,0.01757469,0.01757469,0.01757469,0.01757469,0.01757469,0.01757469,0.01757469,0.01757469,0.01757469,0.01757469,0.01757469,0.01757469,0.01757469,0.01757469,0.01757469,0.01757469,0.01757469,0.01757469,0.01757469,0.01757469,0.01757469,0.01757469,0.01757469,0.01757469,0.01757469,0.01757469,0.01757469,0.01757469,0.01757469,0.01757469,0.01757469,0.01757469,0.01757469,0.01757469,0.01757469,0.01757469,0.01757469,0.01757469,0.01757469,0.01757469,0.13356766,0.05799649,0.01757469,0.01757469]]\n",
    "cat_emission_weights = np.array(cat_emission_weights)"
   ]
  },
  {
   "cell_type": "markdown",
   "metadata": {},
   "source": [
    "### 2b. Initialization of the HSMM\n",
    "\n",
    "After having defined all hyperparametr the model is now fully defined.\n",
    "We will now create an instance of an HSMM with the given hyperparameters that can be used for the final experiments."
   ]
  },
  {
   "cell_type": "code",
   "execution_count": 12,
   "metadata": {},
   "outputs": [],
   "source": [
    "dur_distns = []\n",
    "gaussians = []\n",
    "categoricals = []\n",
    "mixtures = []\n",
    "\n",
    "dist_obs_map = [0, 0, 0, 0, 1]\n",
    "\n",
    "for state in range(len(state_list)):\n",
    "    #dur_distns.append(PoissonDuration(lmbda = duration_poission_lmbda[state], \n",
    "    #                                  alpha_0=duration_gamma_prior_alpha_0s[state],\n",
    "    #                                  beta_0=duration_gamma_prior_beta_0s[state]))\n",
    "    dur_distns.append(NegativeBinomialFixedRDuration(r=duration_negbin_rs[state], p=duration_negbin_ps[state]))\n",
    "    \n",
    "    gaussians.append(Gaussian(mu_0=cont_emission_mu_0s[state], sigma_0=cont_emission_sigma_0s[state], \n",
    "                              kappa_0=cont_emission_iw_prior_kappa_0, nu_0=cont_emission_iw_prior_nu_0))\n",
    "    \n",
    "    categoricals.append(Categorical(weights=cat_emission_weights[state, :], K=cat_emission_weights.shape[1], alpha_0=cat_emission_dirichlet_prior_alpha_0))\n",
    "    \n",
    "    mixtures.append(DistributionMixture(distv=[gaussians[-1], categoricals[-1]], dist_obs_map=dist_obs_map))\n",
    "\n",
    "distv = [gaussians, categoricals]"
   ]
  },
  {
   "cell_type": "code",
   "execution_count": 13,
   "metadata": {},
   "outputs": [],
   "source": [
    "hsmm_model = HSMM(obs_distns = categoricals, dur_distns=dur_distns, \n",
    "                  trans_matrix=initial_state_transition_likelihood, alpha = dirichlet_state_transition_prior_alpha, \n",
    "                  pi_0=init_state_pi_0, init_state_concentration=init_state_dirichlet_prior)\n",
    "\n",
    "for obs in obs_array:\n",
    "    hsmm_model.add_data(obs[:,-1].astype(np.int32))"
   ]
  },
  {
   "cell_type": "code",
   "execution_count": null,
   "metadata": {},
   "outputs": [],
   "source": []
  },
  {
   "cell_type": "markdown",
   "metadata": {},
   "source": [
    "---\n",
    "\n",
    "### 2c. Gibbs-Sampling initialization\n",
    "\n",
    "If desired one could apply Gibbs sampling before running the BWA to estimate the parameters. The idea is to use Gibbs sampling to get a setting for initial parameters of the model that converge to better optimas, when using the BWA subsequently."
   ]
  },
  {
   "cell_type": "code",
   "execution_count": null,
   "metadata": {},
   "outputs": [],
   "source": [
    "from pyhsmm.util.text import progprint_xrange\n",
    "\n",
    "if False:\n",
    "    print('Gibbs sampling for initialization')\n",
    "\n",
    "    for idx in progprint_xrange(0):\n",
    "        hsmm_model.resample_model()\n",
    "\n",
    "plt.figure()\n",
    "hsmm_model.plot()\n",
    "plt.gcf().suptitle('Initial Fit')\n",
    "plt.savefig('pyhsmm_init_fit.png')\n",
    "plt.show()\n"
   ]
  },
  {
   "cell_type": "markdown",
   "metadata": {},
   "source": [
    "---\n",
    "\n",
    "### 2d. Parameter Estimation using the BWA"
   ]
  },
  {
   "cell_type": "markdown",
   "metadata": {},
   "source": [
    "Before running the BWA we will however add the data to the model."
   ]
  },
  {
   "cell_type": "code",
   "execution_count": 14,
   "metadata": {},
   "outputs": [
    {
     "name": "stderr",
     "output_type": "stream",
     "text": [
      "/home/daniel/.conda/envs/virtamed/lib/python3.7/site-packages/pyhsmm-0.1.6-py3.7-linux-x86_64.egg/pyhsmm/internals/hsmm_states.py:92: RuntimeWarning: divide by zero encountered in log\n",
      "  self._log_trans_matrix = np.log(self.trans_matrix)\n",
      "/home/daniel/.conda/envs/virtamed/lib/python3.7/site-packages/pyhsmm-0.1.6-py3.7-linux-x86_64.egg/pyhsmm/internals/hsmm_states.py:367: RuntimeWarning: divide by zero encountered in log\n",
      "  self.trans_potentials, np.log(self.pi_0),\n"
     ]
    }
   ],
   "source": [
    "likes = hsmm_model.EM_fit(maxiter=5000)"
   ]
  },
  {
   "cell_type": "code",
   "execution_count": 15,
   "metadata": {},
   "outputs": [],
   "source": [
    "import time\n",
    "import os\n",
    "\n",
    "date = datetime.datetime.strptime(time.ctime(), \"%a %b %d %H:%M:%S %Y\")\n",
    "timestamp = datetime.datetime.strftime(date, \"%Y%m%d_%H%M%S\")\n",
    "output_dir = '../../data/experiments/'+ timestamp+'/'\n",
    "os.mkdir(output_dir)"
   ]
  },
  {
   "cell_type": "code",
   "execution_count": 16,
   "metadata": {
    "scrolled": true
   },
   "outputs": [
    {
     "ename": "TypeError",
     "evalue": "unsupported operand type(s) for +: 'NoneType' and 'list'",
     "output_type": "error",
     "traceback": [
      "\u001b[0;31m---------------------------------------------------------------------------\u001b[0m",
      "\u001b[0;31mTypeError\u001b[0m                                 Traceback (most recent call last)",
      "\u001b[0;32m<ipython-input-16-e78a042560a7>\u001b[0m in \u001b[0;36m<module>\u001b[0;34m\u001b[0m\n\u001b[1;32m      1\u001b[0m \u001b[0mplt\u001b[0m\u001b[0;34m.\u001b[0m\u001b[0mfigure\u001b[0m\u001b[0;34m(\u001b[0m\u001b[0;34m)\u001b[0m\u001b[0;34m\u001b[0m\u001b[0;34m\u001b[0m\u001b[0m\n\u001b[0;32m----> 2\u001b[0;31m \u001b[0mhsmm_model\u001b[0m\u001b[0;34m.\u001b[0m\u001b[0mplot\u001b[0m\u001b[0;34m(\u001b[0m\u001b[0;34m)\u001b[0m\u001b[0;34m\u001b[0m\u001b[0;34m\u001b[0m\u001b[0m\n\u001b[0m\u001b[1;32m      3\u001b[0m \u001b[0mplt\u001b[0m\u001b[0;34m.\u001b[0m\u001b[0mgcf\u001b[0m\u001b[0;34m(\u001b[0m\u001b[0;34m)\u001b[0m\u001b[0;34m.\u001b[0m\u001b[0msuptitle\u001b[0m\u001b[0;34m(\u001b[0m\u001b[0;34m'Fit after BWA'\u001b[0m\u001b[0;34m)\u001b[0m\u001b[0;34m\u001b[0m\u001b[0;34m\u001b[0m\u001b[0m\n\u001b[1;32m      4\u001b[0m \u001b[0mplt\u001b[0m\u001b[0;34m.\u001b[0m\u001b[0msavefig\u001b[0m\u001b[0;34m(\u001b[0m\u001b[0moutput_dir\u001b[0m\u001b[0;34m+\u001b[0m\u001b[0;34m'pyhsmm_bwa_fit.png'\u001b[0m\u001b[0;34m)\u001b[0m\u001b[0;34m\u001b[0m\u001b[0;34m\u001b[0m\u001b[0m\n\u001b[1;32m      5\u001b[0m \u001b[0mplt\u001b[0m\u001b[0;34m.\u001b[0m\u001b[0mshow\u001b[0m\u001b[0;34m(\u001b[0m\u001b[0;34m)\u001b[0m\u001b[0;34m\u001b[0m\u001b[0;34m\u001b[0m\u001b[0m\n",
      "\u001b[0;32m~/.conda/envs/virtamed/lib/python3.7/site-packages/pyhsmm-0.1.6-py3.7-linux-x86_64.egg/pyhsmm/models.py\u001b[0m in \u001b[0;36mplot\u001b[0;34m(self, fig, plot_slice, update, draw)\u001b[0m\n\u001b[1;32m    280\u001b[0m         \u001b[0;32mif\u001b[0m \u001b[0mdraw\u001b[0m\u001b[0;34m:\u001b[0m \u001b[0mplt\u001b[0m\u001b[0;34m.\u001b[0m\u001b[0mdraw\u001b[0m\u001b[0;34m(\u001b[0m\u001b[0;34m)\u001b[0m\u001b[0;34m\u001b[0m\u001b[0;34m\u001b[0m\u001b[0m\n\u001b[1;32m    281\u001b[0m \u001b[0;34m\u001b[0m\u001b[0m\n\u001b[0;32m--> 282\u001b[0;31m         \u001b[0;32mreturn\u001b[0m \u001b[0msp1_artists\u001b[0m \u001b[0;34m+\u001b[0m \u001b[0msp2_artists\u001b[0m\u001b[0;34m\u001b[0m\u001b[0;34m\u001b[0m\u001b[0m\n\u001b[0m\u001b[1;32m    283\u001b[0m \u001b[0;34m\u001b[0m\u001b[0m\n\u001b[1;32m    284\u001b[0m     \u001b[0;32mdef\u001b[0m \u001b[0m_get_axes\u001b[0m\u001b[0;34m(\u001b[0m\u001b[0mself\u001b[0m\u001b[0;34m,\u001b[0m\u001b[0mfig\u001b[0m\u001b[0;34m)\u001b[0m\u001b[0;34m:\u001b[0m\u001b[0;34m\u001b[0m\u001b[0;34m\u001b[0m\u001b[0m\n",
      "\u001b[0;31mTypeError\u001b[0m: unsupported operand type(s) for +: 'NoneType' and 'list'"
     ]
    },
    {
     "data": {
      "text/plain": [
       "<Figure size 432x288 with 0 Axes>"
      ]
     },
     "metadata": {},
     "output_type": "display_data"
    },
    {
     "data": {
      "image/png": "[encoded data removed]",
      "text/plain": [
       "<Figure size 864x432 with 20 Axes>"
      ]
     },
     "metadata": {
      "needs_background": "light"
     },
     "output_type": "display_data"
    }
   ],
   "source": [
    "plt.figure()\n",
    "hsmm_model.plot()\n",
    "plt.gcf().suptitle('Fit after BWA')\n",
    "plt.savefig(output_dir+'pyhsmm_bwa_fit.png')\n",
    "plt.show()\n"
   ]
  },
  {
   "cell_type": "code",
   "execution_count": 17,
   "metadata": {},
   "outputs": [
    {
     "data": {
      "image/png": "[encoded data removed]",
      "text/plain": [
       "<Figure size 432x288 with 1 Axes>"
      ]
     },
     "metadata": {
      "needs_background": "light"
     },
     "output_type": "display_data"
    }
   ],
   "source": [
    "plt.close()\n",
    "plt.figure()\n",
    "plt.title('Log-Likelihood during BWA')\n",
    "plt.plot(likes)\n",
    "plt.savefig(output_dir+'pyhsmm_ll_conv.png')\n",
    "\n",
    "plt.show()"
   ]
  },
  {
   "cell_type": "code",
   "execution_count": 18,
   "metadata": {},
   "outputs": [
    {
     "name": "stdout",
     "output_type": "stream",
     "text": [
      "Model summary for state DX\n",
      "-----------------------------------------\n",
      "   Duration model\n",
      "      NegativeBinomial: r=248.813, p=0.4831308057003353\n",
      "\n",
      "   Emission model\n",
      "      Categorical with weights=[0.00000000e+00 0.00000000e+00 0.00000000e+00 0.00000000e+00\n",
      " 6.56336800e-15 3.78225846e-14 0.00000000e+00 0.00000000e+00\n",
      " 0.00000000e+00 0.00000000e+00 0.00000000e+00 0.00000000e+00\n",
      " 2.49567237e-14 9.53274382e-14 1.24014591e-02 9.87598541e-01\n",
      " 0.00000000e+00 0.00000000e+00 0.00000000e+00 0.00000000e+00\n",
      " 0.00000000e+00 0.00000000e+00 0.00000000e+00 0.00000000e+00\n",
      " 6.56238388e-15 1.21492201e-14 0.00000000e+00 0.00000000e+00\n",
      " 9.33221881e-14 1.66210281e-14 0.00000000e+00 0.00000000e+00\n",
      " 0.00000000e+00 0.00000000e+00 0.00000000e+00 0.00000000e+00\n",
      " 0.00000000e+00 0.00000000e+00 0.00000000e+00 0.00000000e+00\n",
      " 0.00000000e+00 0.00000000e+00 0.00000000e+00 0.00000000e+00\n",
      " 1.06264234e-13 1.35084319e-14 0.00000000e+00 0.00000000e+00]\n",
      "Model summary for state place_tool\n",
      "-----------------------------------------\n",
      "   Duration model\n",
      "      NegativeBinomial: r=32.494, p=0.47387970981926675\n",
      "\n",
      "   Emission model\n",
      "      Categorical with weights=[0.00000000e+00 0.00000000e+00 0.00000000e+00 0.00000000e+00\n",
      " 3.62480394e-16 2.70134016e-04 0.00000000e+00 0.00000000e+00\n",
      " 0.00000000e+00 0.00000000e+00 0.00000000e+00 0.00000000e+00\n",
      " 1.99085836e-04 9.98756676e-01 0.00000000e+00 7.74104328e-04\n",
      " 0.00000000e+00 0.00000000e+00 0.00000000e+00 0.00000000e+00\n",
      " 0.00000000e+00 0.00000000e+00 0.00000000e+00 0.00000000e+00\n",
      " 5.50873447e-15 1.62563904e-14 0.00000000e+00 0.00000000e+00\n",
      " 1.63322271e-14 2.19663061e-14 0.00000000e+00 0.00000000e+00\n",
      " 0.00000000e+00 0.00000000e+00 0.00000000e+00 0.00000000e+00\n",
      " 0.00000000e+00 0.00000000e+00 0.00000000e+00 0.00000000e+00\n",
      " 0.00000000e+00 0.00000000e+00 0.00000000e+00 0.00000000e+00\n",
      " 1.36949066e-15 1.71780476e-14 0.00000000e+00 0.00000000e+00]\n",
      "Model summary for state cutting_loop\n",
      "-----------------------------------------\n",
      "   Duration model\n",
      "      NegativeBinomial: r=33.214, p=0.21594546588668379\n",
      "\n",
      "   Emission model\n",
      "      Categorical with weights=[0.00000000e+00 0.00000000e+00 0.00000000e+00 0.00000000e+00\n",
      " 5.19552924e-02 9.04445706e-01 0.00000000e+00 0.00000000e+00\n",
      " 0.00000000e+00 0.00000000e+00 0.00000000e+00 0.00000000e+00\n",
      " 2.89364982e-14 4.10193281e-02 0.00000000e+00 1.69945731e-55\n",
      " 0.00000000e+00 0.00000000e+00 0.00000000e+00 0.00000000e+00\n",
      " 0.00000000e+00 0.00000000e+00 0.00000000e+00 0.00000000e+00\n",
      " 3.91935518e-14 6.41940216e-14 0.00000000e+00 0.00000000e+00\n",
      " 2.57967289e-03 1.38157982e-10 0.00000000e+00 0.00000000e+00\n",
      " 0.00000000e+00 0.00000000e+00 0.00000000e+00 0.00000000e+00\n",
      " 0.00000000e+00 0.00000000e+00 0.00000000e+00 0.00000000e+00\n",
      " 0.00000000e+00 0.00000000e+00 0.00000000e+00 0.00000000e+00\n",
      " 2.07945107e-14 1.13814947e-13 0.00000000e+00 0.00000000e+00]\n",
      "Model summary for state coag_loop\n",
      "-----------------------------------------\n",
      "   Duration model\n",
      "      NegativeBinomial: r=31.712, p=0.577230805826662\n",
      "\n",
      "   Emission model\n",
      "      Categorical with weights=[0.00000000e+00 0.00000000e+00 0.00000000e+00 0.00000000e+00\n",
      " 1.30585221e-16 1.28261782e-14 0.00000000e+00 0.00000000e+00\n",
      " 0.00000000e+00 0.00000000e+00 0.00000000e+00 0.00000000e+00\n",
      " 7.42623502e-16 5.04198312e-14 0.00000000e+00 0.00000000e+00\n",
      " 0.00000000e+00 0.00000000e+00 0.00000000e+00 0.00000000e+00\n",
      " 0.00000000e+00 0.00000000e+00 0.00000000e+00 0.00000000e+00\n",
      " 5.97202966e-02 2.92430631e-01 0.00000000e+00 1.02319450e-04\n",
      " 5.83581476e-03 6.41910938e-01 0.00000000e+00 7.40323797e-59\n",
      " 0.00000000e+00 0.00000000e+00 0.00000000e+00 0.00000000e+00\n",
      " 0.00000000e+00 0.00000000e+00 0.00000000e+00 0.00000000e+00\n",
      " 0.00000000e+00 0.00000000e+00 0.00000000e+00 0.00000000e+00\n",
      " 3.95004951e-15 2.73664216e-14 0.00000000e+00 0.00000000e+00]\n",
      "Model summary for state clear_view\n",
      "-----------------------------------------\n",
      "   Duration model\n",
      "      NegativeBinomial: r=31.963, p=0.4624667922024778\n",
      "\n",
      "   Emission model\n",
      "      Categorical with weights=[0.00000000e+00 0.00000000e+00 0.00000000e+00 0.00000000e+00\n",
      " 2.41147516e-15 2.70438755e-14 0.00000000e+00 0.00000000e+00\n",
      " 0.00000000e+00 0.00000000e+00 0.00000000e+00 0.00000000e+00\n",
      " 3.11063070e-01 1.00198002e-02 0.00000000e+00 0.00000000e+00\n",
      " 0.00000000e+00 0.00000000e+00 0.00000000e+00 0.00000000e+00\n",
      " 0.00000000e+00 0.00000000e+00 0.00000000e+00 0.00000000e+00\n",
      " 4.66215686e-03 1.85828424e-14 0.00000000e+00 0.00000000e+00\n",
      " 6.64465410e-01 9.78956286e-03 0.00000000e+00 0.00000000e+00\n",
      " 0.00000000e+00 0.00000000e+00 0.00000000e+00 0.00000000e+00\n",
      " 0.00000000e+00 0.00000000e+00 0.00000000e+00 0.00000000e+00\n",
      " 0.00000000e+00 0.00000000e+00 0.00000000e+00 0.00000000e+00\n",
      " 3.05019514e-14 5.10569739e-14 0.00000000e+00 0.00000000e+00]\n",
      "Model summary for state handle_chips\n",
      "-----------------------------------------\n",
      "   Duration model\n",
      "      NegativeBinomial: r=149.621, p=0.6311479454551039\n",
      "\n",
      "   Emission model\n",
      "      Categorical with weights=[0.00000000e+000 0.00000000e+000 0.00000000e+000 0.00000000e+000\n",
      " 2.71368420e-045 1.22432616e-014 0.00000000e+000 0.00000000e+000\n",
      " 0.00000000e+000 0.00000000e+000 0.00000000e+000 0.00000000e+000\n",
      " 3.12850607e-113 2.00958363e-014 0.00000000e+000 0.00000000e+000\n",
      " 0.00000000e+000 0.00000000e+000 0.00000000e+000 0.00000000e+000\n",
      " 0.00000000e+000 0.00000000e+000 0.00000000e+000 0.00000000e+000\n",
      " 3.37745148e-016 1.96736549e-014 0.00000000e+000 2.11272997e-004\n",
      " 1.94203460e-015 1.08922810e-014 0.00000000e+000 8.55434205e-002\n",
      " 0.00000000e+000 0.00000000e+000 0.00000000e+000 0.00000000e+000\n",
      " 0.00000000e+000 0.00000000e+000 0.00000000e+000 0.00000000e+000\n",
      " 0.00000000e+000 0.00000000e+000 0.00000000e+000 0.00000000e+000\n",
      " 2.09514549e-001 7.04730757e-001 0.00000000e+000 0.00000000e+000]\n"
     ]
    },
    {
     "data": {
      "image/png": "[encoded data removed]",
      "text/plain": [
       "<Figure size 432x288 with 2 Axes>"
      ]
     },
     "metadata": {
      "needs_background": "light"
     },
     "output_type": "display_data"
    }
   ],
   "source": [
    "plt.close()\n",
    "hsmm_model.total_summary(state_list)"
   ]
  },
  {
   "cell_type": "code",
   "execution_count": 19,
   "metadata": {},
   "outputs": [
    {
     "data": {
      "text/plain": [
       "<Figure size 432x288 with 0 Axes>"
      ]
     },
     "metadata": {},
     "output_type": "display_data"
    },
    {
     "data": {
      "image/png": "[encoded data removed]",
      "text/plain": [
       "<Figure size 432x288 with 2 Axes>"
      ]
     },
     "metadata": {
      "needs_background": "light"
     },
     "output_type": "display_data"
    },
    {
     "data": {
      "text/plain": [
       "<Figure size 432x288 with 0 Axes>"
      ]
     },
     "metadata": {},
     "output_type": "display_data"
    }
   ],
   "source": [
    "plt.figure()\n",
    "hsmm_model.plot_trans_distn(state_list)\n",
    "plt.savefig(output_dir+'pyhsmm_transmat_fit.png')\n",
    "plt.show()"
   ]
  },
  {
   "cell_type": "markdown",
   "metadata": {},
   "source": [
    "---\n",
    "\n",
    "### 2e. Decodition\n",
    "\n",
    "We will now use the fitted model to decode the state_sequences that are given and write the results to the respective eaf files."
   ]
  },
  {
   "cell_type": "code",
   "execution_count": 20,
   "metadata": {},
   "outputs": [],
   "source": [
    "for i in range(len(hsmm_model.stateseqs)):\n",
    "    state_seq = hsmm_model.stateseqs[i]\n",
    "    eaf_file = '/home/daniel/PycharmProjects/virtamed/'+eaf_fnames[i]\n",
    "    data_frame = data_frames[i]\n",
    "    \n",
    "    to_eaf(state_seq, data_frame, state_list, eaf_file, output_dir=output_dir)"
   ]
  },
  {
   "cell_type": "markdown",
   "metadata": {},
   "source": [
    "---\n",
    "### 2f. Save model to disk"
   ]
  },
  {
   "cell_type": "markdown",
   "metadata": {},
   "source": [
    "Last but not least we will save the fitted model as a pickle file to disk."
   ]
  },
  {
   "cell_type": "code",
   "execution_count": 21,
   "metadata": {},
   "outputs": [],
   "source": [
    "import pickle\n",
    "with open(output_dir+'fitted_pyhsmm_model.pkl', 'wb') as f:\n",
    "    pickle.dump(hsmm_model, f)"
   ]
  },
  {
   "cell_type": "markdown",
   "metadata": {},
   "source": [
    "---\n",
    "\n",
    "### 2g. Experiment Summary\n",
    "\n",
    "The setup of the HSMM that was fitted in the previous action is the following"
   ]
  },
  {
   "cell_type": "markdown",
   "metadata": {},
   "source": [
    "---\n",
    "\n",
    "## 3. Further experiments"
   ]
  }
 ],
 "metadata": {
  "kernelspec": {
   "display_name": "Python 3",
   "language": "python",
   "name": "python3"
  },
  "language_info": {
   "codemirror_mode": {
    "name": "ipython",
    "version": 3
   },
   "file_extension": ".py",
   "mimetype": "text/x-python",
   "name": "python",
   "nbconvert_exporter": "python",
   "pygments_lexer": "ipython3",
   "version": "3.7.4"
  }
 },
 "nbformat": 4,
 "nbformat_minor": 2
}
